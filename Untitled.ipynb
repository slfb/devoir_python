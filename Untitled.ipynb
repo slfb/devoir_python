{
 "cells": [
  {
   "cell_type": "code",
   "execution_count": 4,
   "id": "b7dd6532-b2bf-43b3-8ed2-669555f78810",
   "metadata": {},
   "outputs": [
    {
     "name": "stdout",
     "output_type": "stream",
     "text": [
      "2\n",
      "4\n",
      "6\n",
      "8\n",
      "10\n",
      "12\n",
      "14\n",
      "16\n",
      "18\n",
      "20\n"
     ]
    }
   ],
   "source": [
    "#EXCERCICE 1\n",
    "#1\n",
    "list=[1,2,3,4,5,6,7,8,9,10]\n",
    "for i in list:\n",
    "  print(i*2)"
   ]
  },
  {
   "cell_type": "code",
   "execution_count": null,
   "id": "d22a6c69-8393-4fd4-b155-46c3f64ae1e9",
   "metadata": {},
   "outputs": [],
   "source": [
    "#2\n",
    "list=['ba','wade','sarr','mbaye']\n",
    "for i in list:\n",
    "    print(len(i))\n"
   ]
  },
  {
   "cell_type": "code",
   "execution_count": null,
   "id": "9db5eafa-52b1-478f-951a-f70c7f251076",
   "metadata": {},
   "outputs": [],
   "source": [
    "#3\n",
    "liste=[4,5]\n",
    "def carre(liste):\n",
    "    n=[]\n",
    "    for i in liste:\n",
    "        c=i*i\n",
    "        n.append(c)\n",
    "    return n\n",
    "carre(liste)   \n",
    "    "
   ]
  },
  {
   "cell_type": "code",
   "execution_count": null,
   "id": "b8325fed-b6cd-49a4-ac0c-4b6b7a7abc42",
   "metadata": {},
   "outputs": [],
   "source": [
    "#4\n",
    "from random import randint\n",
    "import random\n",
    "liste=[1,6,9,8,4,0]\n",
    "a=random.randint(0,10)\n",
    "for i in liste:\n",
    "    if i > 5:\n",
    "        print(i)"
   ]
  },
  {
   "cell_type": "code",
   "execution_count": null,
   "id": "34b071ae-00b6-412b-b76b-8bb64272775d",
   "metadata": {},
   "outputs": [],
   "source": [
    "#5\n",
    "def plus_longues(liste):\n",
    "    return[chaine for chaine in liste if len(chaine)>5]\n",
    "liste=['salif','ablaye','maodo']\n",
    "resultat=plus_longues(liste)\n",
    "print(resultat)\n",
    "\n"
   ]
  },
  {
   "cell_type": "code",
   "execution_count": null,
   "id": "418ca0ab-c189-4429-bcc9-982f79a32698",
   "metadata": {},
   "outputs": [],
   "source": [
    "#EXERCICE2\n",
    "#1\n",
    "from random import randint\n",
    "liste1=[]\n",
    "liste2=[]\n",
    "for i in range(10):\n",
    "    c=randint(0,10)\n",
    "    liste1.append(c)\n",
    "print(\"liste de depart\", liste1)\n",
    "for j in liste1:\n",
    "    if j>5:\n",
    "        liste2.append(j)\n",
    "print(\"liste de fin\",liste2)"
   ]
  },
  {
   "cell_type": "code",
   "execution_count": null,
   "id": "5cbc5fb4-35ef-41a5-aaa1-ed164072ab76",
   "metadata": {},
   "outputs": [],
   "source": [
    "#2\n",
    "def nombre_pair_ou_impair(nombre):\n",
    " if nombre % 2 == 0:\n",
    "     return \"pair\"\n",
    " else:\n",
    "     return \"impair\"\n",
    "nombre= int(input(\"saisir un nombre\"))\n",
    "\n",
    "resultat= nombre_pair_ou_impair(nombre)\n",
    "\n",
    "print(resultat)"
   ]
  },
  {
   "cell_type": "code",
   "execution_count": null,
   "id": "779c1f67-9a91-4923-8953-29816f6fa163",
   "metadata": {},
   "outputs": [],
   "source": [
    "#3\n",
    "liste=[5,6]\n",
    "resultat= sum(liste)\n",
    "print(resultat)"
   ]
  },
  {
   "cell_type": "code",
   "execution_count": null,
   "id": "5f7ab369-a7b5-4039-948a-bbf7c0921697",
   "metadata": {},
   "outputs": [],
   "source": [
    "#4\n",
    "def premiere_lettre(liste):\n",
    "    return [mot[0] for mot in liste]\n",
    "ma_liste=[\"sac\",\"armoire\",\"livre\",\"indice\",\"feuille\"]\n",
    "resultat=premiere_lettre(ma_liste)\n",
    "print(resultat)"
   ]
  },
  {
   "cell_type": "code",
   "execution_count": null,
   "id": "233befe8-128f-4a1b-a724-7484e92e8902",
   "metadata": {},
   "outputs": [],
   "source": [
    "#5\n",
    "def sans_voyelle(mot):\n",
    "    voyelles= 'aioueAOIUE'\n",
    "    return ''.join([lettre for lettre in mot if lettre not in voyelles])\n",
    "mot=\"salif\"\n",
    "resultat=sans_voyelle(mot)\n",
    "print(resultat)"
   ]
  },
  {
   "cell_type": "code",
   "execution_count": 3,
   "id": "d45596fc-b599-4fb0-928b-eedd22eee30f",
   "metadata": {},
   "outputs": [
    {
     "name": "stdout",
     "output_type": "stream",
     "text": [
      "3\n"
     ]
    }
   ],
   "source": [
    "#EXERCICE3\n",
    "#1\n",
    "def mediane(liste):\n",
    "    liste_triee = sorted(liste)\n",
    "    n = len(liste_triee)\n",
    "    if n % 2 != 0:\n",
    "        return liste_triee[n // 2]\n",
    "    else:\n",
    "        mid1, mid2 = liste_triee[n // 2 - 1], liste_triee[n // 2]\n",
    "        return (mid1 + mid2) / 2\n",
    "nombres = [3, 1, 2, 5, 4]\n",
    "print(mediane(nombres)) \n"
   ]
  },
  {
   "cell_type": "code",
   "execution_count": null,
   "id": "246a3785-e975-4880-a3ff-12a967be7043",
   "metadata": {},
   "outputs": [],
   "source": [
    "#2\n",
    "def filtrer_longues_chaînes(liste):\n",
    "    return [chaine for chaine in liste if len(chaine) > 5]\n",
    "mots = [\"chat\", \"éléphant\", \"maison\", \"ordinateur\", \"soleil\", \"bonjour\"]\n",
    "resultat = filtrer_longues_chaînes(mots)\n",
    "print(resultat) "
   ]
  },
  {
   "cell_type": "code",
   "execution_count": 5,
   "id": "7465c637-6956-401f-98a0-d303795ecf87",
   "metadata": {},
   "outputs": [
    {
     "name": "stdout",
     "output_type": "stream",
     "text": [
      "2.0\n"
     ]
    }
   ],
   "source": [
    "#3\n",
    "def moyenne(liste):\n",
    "    total = 0\n",
    "    for nombre in liste:\n",
    "        total += nombre\n",
    "        return total / len(liste) if len(liste) > 0 else 0 \n",
    "nombres = [10, 20, 30, 40, 50]\n",
    "resultat = moyenne(nombres)\n",
    "print(resultat)  \n"
   ]
  },
  {
   "cell_type": "code",
   "execution_count": 1,
   "id": "5a469151-a1a0-4343-8faa-bd298f32e575",
   "metadata": {},
   "outputs": [
    {
     "name": "stdout",
     "output_type": "stream",
     "text": [
      "['daouda', 'salif']\n"
     ]
    }
   ],
   "source": [
    "#4\n",
    "liste=[\"salif\",\"daouda\"]\n",
    "rev=liste[::-1]\n",
    "print(rev)"
   ]
  },
  {
   "cell_type": "code",
   "execution_count": null,
   "id": "d20ebc2f-9065-4f7c-aeca-b481cc8382ee",
   "metadata": {},
   "outputs": [],
   "source": [
    "#5\n",
    "def avec_a(mots):\n",
    "    return [mot for mot in mots if'a' in mot]\n",
    "mots=[\"salif\",\"vivi\",\"heyoon\"]\n",
    "resultat=avec_a(mots)\n",
    "print(resultat)"
   ]
  },
  {
   "cell_type": "code",
   "execution_count": null,
   "id": "60f7136c-f8c3-4af6-82a0-678507051eb4",
   "metadata": {},
   "outputs": [],
   "source": [
    "#Exercice 4\n",
    "#1\n",
    "ma_liste=[1,2,7,6,2,9,8,6,3,4,1]\n",
    "liste_sans_doublons= list(set(ma_liste))\n",
    "print(liste_sans_doublons)"
   ]
  },
  {
   "cell_type": "code",
   "execution_count": null,
   "id": "480b9952-e7b9-4b2a-b87f-a81904757546",
   "metadata": {},
   "outputs": [],
   "source": [
    "#2\n",
    "def nombres_premiers(jusqu_a):\n",
    "    premiers = []\n",
    "    for num in range(2, jusqu_a + 1):\n",
    "        est_premier = True\n",
    "        for diviseur in range(2, int(num ** 0.5) + 1):\n",
    "            if num % diviseur == 0:\n",
    "                est_premier = False\n",
    "                break\n",
    "        "
   ]
  },
  {
   "cell_type": "code",
   "execution_count": null,
   "id": "671f1fa9-5eac-4c9e-bcfd-66093910733c",
   "metadata": {},
   "outputs": [],
   "source": [
    "#3\n",
    "def multiplier(x):\n",
    "    return x*3\n",
    "liste=[3,5]\n",
    "resultat=map(multiplier,liste)\n",
    "print (list(resultat))"
   ]
  },
  {
   "cell_type": "code",
   "execution_count": 7,
   "id": "558a5198-b325-4c6a-8889-91e2cdad721e",
   "metadata": {},
   "outputs": [
    {
     "name": "stdout",
     "output_type": "stream",
     "text": [
      "{'b': 0.05555555555555555, 'o': 0.2222222222222222, 'n': 0.1111111111111111, 'j': 0.05555555555555555, 'u': 0.1111111111111111, 'r': 0.05555555555555555, 't': 0.1111111111111111, 'l': 0.05555555555555555, 'e': 0.1111111111111111, 'm': 0.05555555555555555, 'd': 0.05555555555555555}\n"
     ]
    }
   ],
   "source": [
    "#Exercice 5\n",
    "from collections import defaultdict\n",
    "def calculer_frequences(texte):\n",
    "    frequences = defaultdict(int)\n",
    "    texte = texte.lower()\n",
    "    for caractere in texte:\n",
    "        if caractere.isalpha():\n",
    "            frequences[caractere] += 1\n",
    "    total_lettres = sum(frequences.values())\n",
    "    for lettre in frequences:\n",
    "        frequences[lettre] /= total_lettres  \n",
    "    return dict(frequences) \n",
    "texte = \"Bonjour tout le monde\"\n",
    "resultat = calculer_frequences(texte) \n",
    "print(resultat)\n",
    "\n"
   ]
  },
  {
   "cell_type": "code",
   "execution_count": null,
   "id": "a3858dcd-2ee7-4e26-8d80-b411c7460fad",
   "metadata": {},
   "outputs": [],
   "source": []
  }
 ],
 "metadata": {
  "kernelspec": {
   "display_name": "Python [conda env:base] *",
   "language": "python",
   "name": "conda-base-py"
  },
  "language_info": {
   "codemirror_mode": {
    "name": "ipython",
    "version": 3
   },
   "file_extension": ".py",
   "mimetype": "text/x-python",
   "name": "python",
   "nbconvert_exporter": "python",
   "pygments_lexer": "ipython3",
   "version": "3.12.7"
  }
 },
 "nbformat": 4,
 "nbformat_minor": 5
}
